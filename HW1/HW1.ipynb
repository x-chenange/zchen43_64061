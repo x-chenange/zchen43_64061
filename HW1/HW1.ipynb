{
  "nbformat": 4,
  "nbformat_minor": 0,
  "metadata": {
    "colab": {
      "provenance": []
    },
    "kernelspec": {
      "name": "python3",
      "display_name": "Python 3"
    },
    "language_info": {
      "name": "python"
    }
  },
  "cells": [
    {
      "cell_type": "code",
      "source": [
        "# import modules\n",
        "from sklearn.datasets import make_blobs\n",
        "import matplotlib.pyplot as plt\n",
        "import numpy as np\n",
        "\n",
        "from sklearn import datasets\n",
        "from sklearn.metrics import accuracy_score\n",
        "from sklearn.model_selection import train_test_split\n",
        "# sklearn--A public machine learning library\n",
        "# \"datasets\": a module to provide data in the library\n",
        "# \"train_test_split\": a module for spliting data\n",
        "# \"accuracy_score\": a module in the library to report accuracy score for evaluating the accuracy of classification mdoel.\n",
        "\n",
        "# generate the simulated dataset.\n",
        "centers = [[2, 4], [6, 6], [1, 9]] # defining centers of the dataset.\n",
        "n_classes = len(centers) # defining the number of classes of the dataset as the number of elements in the list named \"centers\"\n",
        "data, labels = make_blobs(n_samples=150,\n",
        "                          centers=np.array(centers), # converting the list into a number array.\n",
        "                          random_state=1)\n",
        "# the simulated dataset is named as \"make_blobs\"\n",
        "\n",
        "# do a 80-20 split of the data\n",
        "res = train_test_split(data, labels,\n",
        "                       train_size=0.8,\n",
        "                       test_size=0.2,\n",
        "                       random_state=12)\n",
        "train_data, test_data, train_labels, test_labels = res\n",
        "# train_data: represents features (IV) in the training dataset. Training dataset is used to train the model\n",
        "# test_data: features in the testing dataset. Testing dataset is used to test or evaluate the model.\n",
        "# train_lables: target values (DV) in training dataset.\n",
        "# test_labels: target values (DV) in testing dataset.\n",
        "# All these are real-world input and output. The code splits 80% data is used to train and 20% is used to test.\n",
        "\n",
        "# perform a KNN analysis of the simulated data\n",
        "# Create and fit a nearest-neighbor classifier\n",
        "from sklearn.neighbors import KNeighborsClassifier\n",
        "# classifier \"out of the box\", no parameters\n",
        "knn = KNeighborsClassifier()\n",
        "knn.fit(train_data, train_labels) # train the model with real-happened DV and IV.\n",
        "\n",
        "# print some interested metrics\n",
        "print(\"Predictions from the classifier:\")\n",
        "learn_data_predicted = knn.predict(train_data) # print out the precited outcomes given the IV in training dataset.\n",
        "print(learn_data_predicted)\n",
        "print(\"Target values:\")\n",
        "print(train_labels) # print out our tagets values (the real-happened DV)--The 100% correct predictions (values 100% equals to real-happened ones)\n",
        "\n",
        "# output accuracy score: how many percentages of correct values in predictions to the real-happened values.\n",
        "accuracy_score(learn_data_predicted, train_labels)"
      ],
      "metadata": {
        "colab": {
          "base_uri": "https://localhost:8080/"
        },
        "id": "_SCGACjG9mlW",
        "outputId": "34aa76a6-ca1b-4517-b8df-caf0ef5c823e"
      },
      "execution_count": 20,
      "outputs": [
        {
          "output_type": "stream",
          "name": "stdout",
          "text": [
            "Predictions from the classifier:\n",
            "[0 2 1 0 0 1 1 2 2 0 2 2 2 1 1 0 0 2 1 1 0 0 0 1 1 2 0 0 1 0 1 1 1 0 1 2 0\n",
            " 1 0 1 2 2 2 0 2 0 2 2 0 0 0 1 2 2 2 2 1 1 0 1 2 1 2 2 2 0 0 0 0 0 0 0 1 1\n",
            " 2 1 2 1 2 2 1 1 1 0 2 1 2 1 0 1 2 1 0 2 0 1 2 2 0 2 1 0 0 2 1 1 2 2 0 1 1\n",
            " 1 2 2 2 1 1 2 1 2]\n",
            "Target values:\n",
            "[0 2 1 0 0 1 1 2 2 0 2 2 2 1 1 0 0 2 1 1 0 0 0 1 1 2 0 0 1 0 1 1 1 0 1 2 0\n",
            " 1 0 1 2 2 2 0 2 0 2 2 0 0 0 1 2 2 2 2 1 1 0 1 2 1 2 2 2 0 0 0 0 0 0 0 1 1\n",
            " 2 1 2 1 2 2 1 1 1 0 2 1 2 1 0 1 2 1 0 2 0 1 2 2 0 2 1 0 0 2 1 1 2 2 0 1 1\n",
            " 1 2 2 2 1 1 2 1 2]\n"
          ]
        },
        {
          "output_type": "execute_result",
          "data": {
            "text/plain": [
              "1.0"
            ]
          },
          "metadata": {},
          "execution_count": 20
        }
      ]
    },
    {
      "cell_type": "code",
      "source": [
        "# plot your different results\n",
        "# re-do KNN using some specific parameters.\n",
        "knn2 = KNeighborsClassifier(algorithm='auto',\n",
        "                            leaf_size=30,\n",
        "                            metric='minkowski',\n",
        "                            p=2,         # p=2 is equivalent to euclidian distance\n",
        "                            metric_params=None,\n",
        "                            n_jobs=1,\n",
        "                            n_neighbors=5,\n",
        "                            weights='uniform')\n",
        "# except \"n_jobs=1\" & \"n_neighbors=5\", other parameters are equal to default setting\n",
        "# Explanations from \"User Guide\" for \"n_jobs\" & \"n_neighbors\":\n",
        "# n_neighbors : Number of neighbors for each sample.\n",
        "# n_jobs: The number of parallel jobs to run for neighbors search.\n",
        "knn.fit(train_data, train_labels) # Using training data and labels to fit the model\n",
        "test_data_predicted = knn.predict(test_data) # Use the trained model to predict targets given features in test dataset.\n",
        "\n",
        "# output accuracy score\n",
        "accuracy_score(test_data_predicted, test_labels) # compare predcited one and real-happened one in test dataset."
      ],
      "metadata": {
        "colab": {
          "base_uri": "https://localhost:8080/"
        },
        "id": "LM9wvdbnRkOE",
        "outputId": "5ea8b5bf-8d29-46e0-bd05-58a6444b2de6"
      },
      "execution_count": 18,
      "outputs": [
        {
          "output_type": "execute_result",
          "data": {
            "text/plain": [
              "1.0"
            ]
          },
          "metadata": {},
          "execution_count": 18
        }
      ]
    }
  ]
}